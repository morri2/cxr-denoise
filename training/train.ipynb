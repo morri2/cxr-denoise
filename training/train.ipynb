{
 "cells": [
  {
   "cell_type": "markdown",
   "id": "83d062ef",
   "metadata": {},
   "source": [
    "# Training loop for UNet with SE and res blocks\n",
    "First training step is on patches of 512x512 cxrs, patch sizes should be 64x64."
   ]
  },
  {
   "cell_type": "markdown",
   "id": "afbabca0",
   "metadata": {},
   "source": [
    "## Flexible setup\n",
    "This NB is designed to work flawlessly with either Google Colab or on a local machine."
   ]
  },
  {
   "cell_type": "code",
   "execution_count": null,
   "id": "72d3bb64",
   "metadata": {},
   "outputs": [
    {
     "name": "stdout",
     "output_type": "stream",
     "text": [
      "IN_COLAB= False\n"
     ]
    }
   ],
   "source": [
    "# Colab setup\n",
    "import os\n",
    "\n",
    "try:\n",
    "  import google.colab\n",
    "  IN_COLAB = True\n",
    "except:\n",
    "  IN_COLAB = False\n",
    "print(\"IN_COLAB=\", IN_COLAB)\n",
    "\n",
    "if IN_COLAB:\n",
    "    from google.colab import drive\n",
    "    drive.mount(\"/content/drive/\")\n",
    "    os.chdir('/content/drive/MyDrive/Denoise/cxr-denoise/training')\n",
    "    !pip install -r ../requirements.txt -q\n",
    "    print(\"Requirements installed!\")"
   ]
  },
  {
   "cell_type": "code",
   "execution_count": null,
   "id": "6458fcc9",
   "metadata": {},
   "outputs": [
    {
     "name": "stdout",
     "output_type": "stream",
     "text": [
      "Using: cpu\n"
     ]
    }
   ],
   "source": [
    "# Enviorment setup\n",
    "import os\n",
    "import torch\n",
    "import numpy as np\n",
    "import random\n",
    "\n",
    "# Seeding\n",
    "torch.manual_seed(42)\n",
    "np.random.seed(42)\n",
    "random.seed(42)\n",
    "\n",
    "# Check device\n",
    "device = torch.device(\"cuda\" if torch.cuda.is_available() else \"cpu\")\n",
    "# TODO (optional): fix xpu support\n",
    "print(\"Using:\", device)\n"
   ]
  },
  {
   "cell_type": "code",
   "execution_count": null,
   "id": "b4e8be88",
   "metadata": {},
   "outputs": [],
   "source": [
    "# Get dataset from drive in colab - else sets DATA_PATH\n",
    "# expect <5 min for 512², or <20 for 1024²\n",
    "if IN_COLAB:\n",
    "    import zipfile\n",
    "\n",
    "    ZIP_PATH = \"/content/drive/MyDrive/Datasets/NIH_data_512.zip\"\n",
    "    UNZIP_PATH = \"/content/data/NIH_data_512\"\n",
    "\n",
    "    if not os.path.exists(UNZIP_PATH):\n",
    "        os.makedirs(UNZIP_PATH, exist_ok=True)\n",
    "        with zipfile.ZipFile(ZIP_PATH, 'r') as zip_ref:\n",
    "            zip_ref.extractall(UNZIP_PATH)\n",
    "    DATA_PATH = \"/content/data/NIH_data_512/content/NIH_data_512/\" # TODO: fix redundent \"content\" - likely mistake in zipping\n",
    "else:\n",
    "    DATA_PATH = \"../data/NIH_data_512\""
   ]
  },
  {
   "cell_type": "markdown",
   "id": "adfa36b1",
   "metadata": {},
   "source": [
    "## Dataset and Noise model setup\n",
    "Sets up the splits for the diffrent NIH datasets"
   ]
  },
  {
   "cell_type": "code",
   "execution_count": null,
   "id": "f347047b",
   "metadata": {},
   "outputs": [
    {
     "name": "stdout",
     "output_type": "stream",
     "text": [
      "NIH CXR Dataset (512x512), split='train' loaded with 69791 samples\n",
      "NIH CXR Dataset (512x512), split='val' loaded with 16733 samples\n",
      "NIH CXR Dataset (512x512), split='test' loaded with 25596 samples\n"
     ]
    }
   ],
   "source": [
    "# Load NIH Dataset\n",
    "from nih_dataset import NIH_Dataset, RandomPatchDataset\n",
    "from torch.utils.data import DataLoader\n",
    "from noise import PreprocessClean, ApplyNoise\n",
    "import torch\n",
    "from PIL import Image\n",
    "from torchvision import transforms\n",
    "\n",
    "PRELOAD_TO_RAM = IN_COLAB\n",
    "\n",
    "if not ('already_in_ram' in globals() or 'already_in_ram' in locals()): # dirty check to avoid reloading to ram\n",
    "    nih_train = NIH_Dataset(DATA_PATH, split=\"train\", preload_to_ram=PRELOAD_TO_RAM)\n",
    "    nih_val = NIH_Dataset(DATA_PATH, split=\"val\", preload_to_ram=PRELOAD_TO_RAM)\n",
    "    nih_test = NIH_Dataset(DATA_PATH, split=\"test\", preload_to_ram=PRELOAD_TO_RAM)\n",
    "\n",
    "already_in_ram = PRELOAD_TO_RAM"
   ]
  },
  {
   "cell_type": "code",
   "execution_count": null,
   "id": "cc28a3ea",
   "metadata": {},
   "outputs": [
    {
     "name": "stdout",
     "output_type": "stream",
     "text": [
      "train/val/test: 320/100/100\n"
     ]
    }
   ],
   "source": [
    "# Create Dataloaders and Patch dataset\n",
    "\n",
    "#LIMIT_DATA = None # For Using Full Dataset\n",
    "LIMIT_DATA = [320, 100, 100] # For Testing\n",
    "BATCH_SIZE = 4\n",
    "PATCH_BATCH_SIZE = 256\n",
    "PATCH_SIZE = 64\n",
    "\n",
    "if LIMIT_DATA:\n",
    "    nih_train = torch.utils.data.Subset(nih_train, range(LIMIT_DATA[0])) if LIMIT_DATA[0] else nih_train\n",
    "    nih_val = torch.utils.data.Subset(nih_val, range(LIMIT_DATA[1])) if LIMIT_DATA[1] else nih_val\n",
    "    nih_test = torch.utils.data.Subset(nih_test, range(LIMIT_DATA[2])) if LIMIT_DATA[2] else nih_test\n",
    "\n",
    "\n",
    "\n",
    "train_dl = DataLoader(nih_train, batch_size=BATCH_SIZE, pin_memory=True, num_workers=4)\n",
    "val_dl = DataLoader(nih_val, batch_size=BATCH_SIZE)\n",
    "test_dl = DataLoader(nih_test, batch_size=BATCH_SIZE)\n",
    "\n",
    "\n",
    "\n",
    "patch_train_dl = DataLoader(RandomPatchDataset(nih_train, PATCH_SIZE), batch_size=PATCH_BATCH_SIZE, pin_memory=True, num_workers=4)\n",
    "\n",
    "print(f\"train/val/test: {len(nih_train)}/{len(nih_val)}/{len(nih_test)}\")\n"
   ]
  },
  {
   "cell_type": "code",
   "execution_count": 6,
   "id": "3359e513",
   "metadata": {},
   "outputs": [
    {
     "name": "stdout",
     "output_type": "stream",
     "text": [
      "Sample batch shape: torch.Size([4, 1, 512, 512])\n"
     ]
    },
    {
     "data": {
      "image/png": "[encoded data removed]",
      "text/plain": [
       "<Figure size 1600x400 with 4 Axes>"
      ]
     },
     "metadata": {},
     "output_type": "display_data"
    }
   ],
   "source": [
    "# Noise model\n",
    "preproc: PreprocessClean = PreprocessClean() # apply to clean images for ground truth\n",
    "noiser: ApplyNoise = ApplyNoise(blur_sigma=1.0) # apply to preproc to get noisy features\n",
    "\n",
    "sample = next(iter(train_dl))\n",
    "print(\"Sample batch shape:\", sample[0].shape)\n",
    "\n",
    "# Load and transform images named example_01.png to example_06.png\n",
    "example_transf = transforms.ToTensor()\n",
    "example_patches = [\n",
    "    example_transf(Image.open(f\"examples/patch_{i:02d}.png\").convert(\"L\")) for i in range(1, 7)\n",
    "]\n",
    "\n",
    "# Example Patches\n",
    "example_patch_batch = torch.stack(example_patches).to(device)  # shape: (6, 1, H, W)\n",
    "import cxr_plt\n",
    "\n",
    "example_clean = preproc(example_patch_batch)\n",
    "example_noisy = noiser(example_clean)\n",
    "\n",
    "cxr_plt.plot_cxr_images(\n",
    "    [example_clean[0], example_noisy[0], example_clean[1], example_noisy[1]], \n",
    "    [\"Clean 1\", \"Noisy 1\", \"Clean 2\", \"Noisy 2\"], figsize=(4*4, 4))\n"
   ]
  },
  {
   "cell_type": "markdown",
   "id": "2b2a7b5b",
   "metadata": {},
   "source": [
    "## Model and training"
   ]
  },
  {
   "cell_type": "code",
   "execution_count": null,
   "id": "dfdc833a",
   "metadata": {},
   "outputs": [
    {
     "name": "stderr",
     "output_type": "stream",
     "text": [
      "c:\\Users\\Morris\\Workspace\\cxr-denoise\\.venv\\Lib\\site-packages\\tqdm\\auto.py:21: TqdmWarning: IProgress not found. Please update jupyter and ipywidgets. See https://ipywidgets.readthedocs.io/en/stable/user_install.html\n",
      "  from .autonotebook import tqdm as notebook_tqdm\n"
     ]
    },
    {
     "name": "stdout",
     "output_type": "stream",
     "text": [
      "model output shape: torch.Size([1, 1, 512, 512])\n",
      "Trainable parameters: 8,169,711\n"
     ]
    }
   ],
   "source": [
    "# Model\n",
    "from unet_model import ResUNetSE\n",
    "import torchsummary\n",
    "import torchinfo\n",
    "import torch\n",
    "\n",
    "BASE_CHANNELS = 32\n",
    "model = ResUNetSE(features=BASE_CHANNELS, se_reduction=16).to(device=device)\n",
    "\n",
    "with torch.no_grad():\n",
    "    out = model(torch.zeros((1, 1, 512, 512)).to(device))\n",
    "    print(\"model output shape:\", out.shape)\n",
    "\n",
    "print(f\"Trainable parameters: {sum(p.numel() for p in model.parameters() if p.requires_grad):,}\")"
   ]
  },
  {
   "cell_type": "code",
   "execution_count": null,
   "id": "3349c5a1",
   "metadata": {},
   "outputs": [
    {
     "name": "stderr",
     "output_type": "stream",
     "text": [
      "Epoch 1/10: 100%|██████████| 2/2 [00:18<00:00,  9.28s/it, loss=2.0145]\n"
     ]
    },
    {
     "name": "stdout",
     "output_type": "stream",
     "text": [
      "Epoch 1 Average Loss: 3.4397\n",
      "  freq: 10.14579153060913, mse: 0.21521098539233208, l1: 0.36159318685531616 (unweighted)\n"
     ]
    },
    {
     "name": "stderr",
     "output_type": "stream",
     "text": [
      "Epoch 2/10: 100%|██████████| 2/2 [00:18<00:00,  9.11s/it, loss=0.7841]\n"
     ]
    },
    {
     "name": "stdout",
     "output_type": "stream",
     "text": [
      "Epoch 2 Average Loss: 0.9132\n",
      "  freq: 2.4266669750213623, mse: 0.07165158912539482, l1: 0.2270027920603752 (unweighted)\n"
     ]
    }
   ],
   "source": [
    "# Training loop - patch training\n",
    "\n",
    "import torch\n",
    "from cxr_plt import *\n",
    "from tqdm import tqdm\n",
    "from loss import CombinedLoss, SpatialLoss, FrequencyLoss\n",
    "import matplotlib.pyplot as plt\n",
    "import os\n",
    "from torchvision.transforms.functional import to_pil_image\n",
    "from torchvision.utils import make_grid\n",
    "\n",
    "from torchmetrics.functional import structural_similarity_index_measure as ssim\n",
    "import torch.nn.functional as F\n",
    "from train_util import *\n",
    "import csv\n",
    "\n",
    "criterion = CombinedLoss(mse_weight=1.0, l1_weight=0.5, freq_weight=0.3)\n",
    "optimizer = torch.optim.Adam(model.parameters(), lr=1e-3)\n",
    "model.train()\n",
    "\n",
    "num_epochs = 10\n",
    "patch_size = 64\n",
    "\n",
    "\n",
    "metrics_log_path = \"checkpoints/training_metrics.csv\"\n",
    "os.makedirs(\"checkpoints\", exist_ok=True)\n",
    "\n",
    "# Create CSV file with header if not exists\n",
    "if not os.path.exists(metrics_log_path):\n",
    "    with open(metrics_log_path, mode='w', newline='') as f:\n",
    "        writer = csv.writer(f)\n",
    "        writer.writerow([\"epoch\", \"val_psnr\", \"val_ssim\", \"val_l1\", \"train_psnr\", \"train_ssim\", \"train_l1\"])\n",
    "\n",
    "\n",
    "total_batches = 0\n",
    "for epoch in range(num_epochs):\n",
    "    total_loss = 0.0\n",
    "    total_freq_loss = 0.0\n",
    "    total_mse_loss = 0.0\n",
    "    total_l1_loss = 0.0\n",
    "    pbar = tqdm(patch_train_dl, desc=f\"Epoch {epoch+1}/{num_epochs}\")\n",
    "\n",
    "    for batch in pbar:\n",
    "        batch = batch[0] if isinstance(batch, (tuple, list)) else batch\n",
    "        clean = batch.to(device)  # (B, 1, H, W)\n",
    "\n",
    "        # Preprocess and noise\n",
    "        clean = preproc(clean)\n",
    "\n",
    "        # Apply noise\n",
    "        noisy = noiser(clean)\n",
    "\n",
    "        # Forward pass\n",
    "        output = model(noisy)\n",
    "        loss = criterion(output, clean)\n",
    "\n",
    "        # Backprop\n",
    "        optimizer.zero_grad()\n",
    "        loss.backward()\n",
    "        optimizer.step()\n",
    "        total_batches += 1\n",
    "\n",
    "        total_loss += loss.item()\n",
    "        \n",
    "        component_losses = criterion.get_last_losses()\n",
    "        if component_losses:\n",
    "            total_freq_loss += component_losses['freq_loss']\n",
    "            total_mse_loss += component_losses['mse_loss']\n",
    "            total_l1_loss += component_losses['l1_loss']\n",
    "\n",
    "\n",
    "        pbar.set_postfix(loss=f\"{loss.item():.4f}\")\n",
    "\n",
    "    avg_loss = total_loss / len(patch_train_dl)\n",
    "    avg_freq_loss = total_freq_loss / len(patch_train_dl)\n",
    "    avg_mse_loss = total_mse_loss / len(patch_train_dl)\n",
    "    avg_l1_loss = total_l1_loss / len(patch_train_dl)\n",
    "    print(f\"Epoch {epoch+1} Average Loss: {avg_loss:.4f}\")\n",
    "    print(f\"  freq: {avg_freq_loss:.4f}, mse: {avg_mse_loss:.4f}, l1: {avg_l1_loss:.4f} (unweighted)\")\n",
    "\n",
    "\n",
    "    # Log visuals and metrics after each epoch\n",
    "    with torch.no_grad():\n",
    "        model.eval()\n",
    "\n",
    "        clean = preproc(example_patch_batch.to(device))\n",
    "        noisy = noiser(clean)\n",
    "        output = model(noisy)\n",
    "\n",
    "        save_cxr_triplet(clean, noisy, output, f\"example_patches_epoch_{epoch}.png\")\n",
    "\n",
    "        val_metrics = evaluate_metrics_on_dataloader(model, val_dl, preproc, noiser, device, max_batches=500)\n",
    "        train_metrics = evaluate_metrics_on_dataloader(model, train_dl, preproc, noiser, device, max_batches=500)\n",
    "\n",
    "        # Save model checkpoint\n",
    "        torch.save(model.state_dict(), f\"checkpoints/model_epoch_{epoch+1}.pt\")\n",
    "\n",
    "        # Write metrics to CSV\n",
    "        with open(metrics_log_path, mode='a', newline='') as f:\n",
    "            writer = csv.writer(f)\n",
    "            writer.writerow([\n",
    "                epoch + 1,\n",
    "                val_metrics[\"psnr\"],\n",
    "                val_metrics[\"ssim\"],\n",
    "                val_metrics[\"l1\"],\n",
    "                train_metrics[\"psnr\"],\n",
    "                train_metrics[\"ssim\"],\n",
    "                train_metrics[\"l1\"]\n",
    "            ])\n",
    "\n",
    "        \n",
    "        model.train()\n",
    "\n",
    "\n",
    "\n"
   ]
  },
  {
   "cell_type": "markdown",
   "id": "0a1fce5a",
   "metadata": {},
   "source": [
    "## Save and Eval"
   ]
  },
  {
   "cell_type": "code",
   "execution_count": null,
   "id": "9de48340",
   "metadata": {},
   "outputs": [],
   "source": [
    "test_metrics = evaluate_metrics_on_dataloader(model, test_dl, preproc, noiser, device, max_batches=None)\n",
    "\n",
    "print(\"== Metrics on Test data ==\")\n",
    "print(f\"PSNR: {test_metrics['psnr']}\")\n",
    "print(f\"SSIM: {test_metrics['ssim']}\")\n",
    "print(f\"L1:   {test_metrics['l1']}\")\n"
   ]
  },
  {
   "cell_type": "code",
   "execution_count": null,
   "id": "a6110458",
   "metadata": {},
   "outputs": [],
   "source": [
    "import torch\n",
    "import torchvision.transforms as T\n",
    "from PIL import Image\n",
    "import matplotlib.pyplot as plt\n",
    "import numpy as np\n",
    "import cxr_plt\n",
    "\n",
    "import torch.nn.functional as F\n",
    "from torchmetrics.functional import structural_similarity_index_measure as ssim\n",
    "from torchmetrics.functional import peak_signal_noise_ratio as psnr\n",
    "\n",
    "\n",
    "image_path = \"examples/fatpanel-binned-log.png\"\n",
    "device = torch.device(\"cuda\" if torch.cuda.is_available() else \"cpu\")\n",
    "to_tensor = T.ToTensor()\n",
    "\n",
    "model.eval()\n",
    "\n",
    "fatpanel_cxr = Image.open(image_path).convert(\"L\")\n",
    "fatpanel_cxr = to_tensor(fatpanel_cxr)\n",
    "fatpanel_cxr = fatpanel_cxr.unsqueeze(0).to(device)\n",
    "\n",
    "print(\"Image shape:\", fatpanel_cxr.shape)\n",
    "\n",
    "with torch.no_grad():\n",
    "    fatpanel_cxr_restored = model(fatpanel_cxr).clip(0.0,1.0)\n",
    "\n",
    "\n",
    "# --- Metrics ---\n",
    "l1 = F.l1_loss(fatpanel_cxr_restored, fatpanel_cxr).item()\n",
    "psnr_val = psnr(fatpanel_cxr_restored, fatpanel_cxr, data_range=1.0).item()\n",
    "ssim_val = ssim(fatpanel_cxr_restored, fatpanel_cxr, data_range=1.0).item()\n",
    "\n",
    "print(f\"PSNR: {psnr_val:.2f} dB\")\n",
    "print(f\"SSIM: {ssim_val:.4f}\")\n",
    "print(f\"L1 loss: {l1:.4f}\")\n",
    "\n",
    "cxr_plt.plot_cxr_images([fatpanel_cxr, fatpanel_cxr_restored], [\"Experimental Image\", \"Denoised with Model\"], figsize=(18,9))\n",
    "\n",
    "# --- Save to file ---\n",
    "save_path = \"saved_out/fatpanel_restored.png\"\n",
    "\n",
    "restored_img_np = fatpanel_cxr_restored.squeeze().clamp(0, 1).cpu().numpy()\n",
    "restored_img_pil = Image.fromarray((restored_img_np * 255).astype(np.uint8))\n",
    "restored_img_pil.save(save_path)\n",
    "\n",
    "print(f\"Saved restored image to: {save_path}\")"
   ]
  },
  {
   "cell_type": "code",
   "execution_count": null,
   "id": "81ee5ec1",
   "metadata": {},
   "outputs": [],
   "source": [
    "# Save the model weights\n",
    "MODEL_SAVE_PATH = \"checkpoints/denoise_model_epoch_last.pth\"\n",
    "os.makedirs(os.path.dirname(MODEL_SAVE_PATH), exist_ok=True)\n",
    "\n",
    "\n",
    "\n",
    "torch.save({\n",
    "    'model_state_dict': model.state_dict(),\n",
    "    'optimizer_state_dict': optimizer.state_dict(),\n",
    "    'base_channels': BASE_CHANNELS,\n",
    "    'test_ssim': test_metrics['ssim'],\n",
    "    'test_psnr': test_metrics['psnr'],\n",
    "    'test_l1': test_metrics['l1'],\n",
    "    'epoch': epoch + 1,  # last completed epoch\n",
    "    'patch_size': patch_size,\n",
    "    'parameters': sum(p.numel() for p in model.parameters() if p.requires_grad),\n",
    "}, MODEL_SAVE_PATH)\n",
    "\n",
    "print(f\"Model saved to {MODEL_SAVE_PATH}\")"
   ]
  },
  {
   "cell_type": "code",
   "execution_count": null,
   "id": "4fbc6d99",
   "metadata": {},
   "outputs": [],
   "source": [
    "# Test model"
   ]
  }
 ],
 "metadata": {
  "kernelspec": {
   "display_name": ".venv",
   "language": "python",
   "name": "python3"
  },
  "language_info": {
   "codemirror_mode": {
    "name": "ipython",
    "version": 3
   },
   "file_extension": ".py",
   "mimetype": "text/x-python",
   "name": "python",
   "nbconvert_exporter": "python",
   "pygments_lexer": "ipython3",
   "version": "3.11.6"
  }
 },
 "nbformat": 4,
 "nbformat_minor": 5
}
