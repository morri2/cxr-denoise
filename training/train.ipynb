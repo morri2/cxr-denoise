{
 "cells": [
  {
   "cell_type": "markdown",
   "id": "83d062ef",
   "metadata": {},
   "source": [
    "# Training loop for UNet with SE and res blocks\n",
    "First training step is on patches of 512x512 cxrs, patch sizes should be 64x64."
   ]
  },
  {
   "cell_type": "markdown",
   "id": "afbabca0",
   "metadata": {},
   "source": [
    "## Flexible setup\n",
    "This NB is designed to work flawlessly with either Google Colab or on a local machine."
   ]
  },
  {
   "cell_type": "code",
   "execution_count": 12,
   "id": "72d3bb64",
   "metadata": {},
   "outputs": [
    {
     "name": "stdout",
     "output_type": "stream",
     "text": [
      "IN_COLAB= False\n"
     ]
    }
   ],
   "source": [
    "# Colab setup\n",
    "import os\n",
    "\n",
    "try:\n",
    "  import google.colab\n",
    "  IN_COLAB = True\n",
    "except:\n",
    "  IN_COLAB = False\n",
    "print(\"IN_COLAB=\", IN_COLAB)\n",
    "\n",
    "if IN_COLAB:\n",
    "    from google.colab import drive\n",
    "    drive.mount(\"/content/drive/\")\n",
    "    os.chdir('/content/drive/MyDrive/Denoise/cxr-denoise/training')\n",
    "    !pip install -r ../requirements.txt -q\n",
    "    print(\"Requirements installed!\")"
   ]
  },
  {
   "cell_type": "code",
   "execution_count": 13,
   "id": "6458fcc9",
   "metadata": {},
   "outputs": [
    {
     "name": "stdout",
     "output_type": "stream",
     "text": [
      "Using: cpu\n"
     ]
    }
   ],
   "source": [
    "# Enviorment setup\n",
    "import os\n",
    "import torch\n",
    "import numpy as np\n",
    "import random\n",
    "\n",
    "# Seeding\n",
    "torch.manual_seed(42)\n",
    "np.random.seed(42)\n",
    "random.seed(42)\n",
    "\n",
    "# Check device\n",
    "device = torch.device(\"cuda\" if torch.cuda.is_available() else \"cpu\")\n",
    "# TODO (optional): fix xpu support\n",
    "print(\"Using:\", device)\n"
   ]
  },
  {
   "cell_type": "code",
   "execution_count": 14,
   "id": "b4e8be88",
   "metadata": {},
   "outputs": [],
   "source": [
    "# Get dataset from drive in colab - else sets DATA_PATH\n",
    "# expect <5 min for 512², or <20 for 1024²\n",
    "if IN_COLAB:\n",
    "    import zipfile\n",
    "\n",
    "    ZIP_PATH = \"/content/drive/MyDrive/Datasets/NIH_data_512.zip\"\n",
    "    UNZIP_PATH = \"/content/data/NIH_data_512\"\n",
    "\n",
    "    if not os.path.exists(UNZIP_PATH):\n",
    "        os.makedirs(UNZIP_PATH, exist_ok=True)\n",
    "        with zipfile.ZipFile(ZIP_PATH, 'r') as zip_ref:\n",
    "            zip_ref.extractall(UNZIP_PATH)\n",
    "    DATA_PATH = \"/content/data/NIH_data_512/content/NIH_data_512/\" # TODO: fix redundent \"content\" - likely mistake in zipping\n",
    "else:\n",
    "    DATA_PATH = \"../data/NIH_data_512\""
   ]
  },
  {
   "cell_type": "markdown",
   "id": "adfa36b1",
   "metadata": {},
   "source": [
    "## Dataset and Noise model setup\n",
    "Sets up the splits for the diffrent NIH datasets"
   ]
  },
  {
   "cell_type": "code",
   "execution_count": 15,
   "id": "f347047b",
   "metadata": {},
   "outputs": [
    {
     "name": "stdout",
     "output_type": "stream",
     "text": [
      "NIH CXR Dataset (512x512), split='train' loaded with 69791 samples\n",
      "NIH CXR Dataset (512x512), split='val' loaded with 16733 samples\n"
     ]
    },
    {
     "ename": "KeyboardInterrupt",
     "evalue": "",
     "output_type": "error",
     "traceback": [
      "\u001b[31m---------------------------------------------------------------------------\u001b[39m",
      "\u001b[31mKeyboardInterrupt\u001b[39m                         Traceback (most recent call last)",
      "\u001b[36mCell\u001b[39m\u001b[36m \u001b[39m\u001b[32mIn[15]\u001b[39m\u001b[32m, line 12\u001b[39m\n\u001b[32m     10\u001b[39m nih_train = NIH_Dataset(DATA_PATH, split=\u001b[33m\"\u001b[39m\u001b[33mtrain\u001b[39m\u001b[33m\"\u001b[39m, preload_to_ram=PRELOAD_TO_RAM)\n\u001b[32m     11\u001b[39m nih_val = NIH_Dataset(DATA_PATH, split=\u001b[33m\"\u001b[39m\u001b[33mval\u001b[39m\u001b[33m\"\u001b[39m, preload_to_ram=PRELOAD_TO_RAM)\n\u001b[32m---> \u001b[39m\u001b[32m12\u001b[39m nih_test = \u001b[43mNIH_Dataset\u001b[49m\u001b[43m(\u001b[49m\u001b[43mDATA_PATH\u001b[49m\u001b[43m,\u001b[49m\u001b[43m \u001b[49m\u001b[43msplit\u001b[49m\u001b[43m=\u001b[49m\u001b[33;43m\"\u001b[39;49m\u001b[33;43mtest\u001b[39;49m\u001b[33;43m\"\u001b[39;49m\u001b[43m,\u001b[49m\u001b[43m \u001b[49m\u001b[43mpreload_to_ram\u001b[49m\u001b[43m=\u001b[49m\u001b[43mPRELOAD_TO_RAM\u001b[49m\u001b[43m)\u001b[49m\n\u001b[32m     14\u001b[39m LIMIT_DATA = \u001b[38;5;28;01mNone\u001b[39;00m \u001b[38;5;66;03m# For Using Full Dataset\u001b[39;00m\n\u001b[32m     15\u001b[39m \u001b[38;5;66;03m#LIMIT_DATA = [320, 100, 100] # For Testing\u001b[39;00m\n",
      "\u001b[36mFile \u001b[39m\u001b[32m~/Workspace/cxr-denoise/training/nih_dataset.py:75\u001b[39m, in \u001b[36mNIH_Dataset.__init__\u001b[39m\u001b[34m(self, dataset_root, split, csvpath, views, unique_patients, out_array_type, out_min, out_max, out_size, img_max_val, no_lbls, preload_to_ram, to_device)\u001b[39m\n\u001b[32m     72\u001b[39m \u001b[38;5;28;01mif\u001b[39;00m csvpath \u001b[38;5;129;01mis\u001b[39;00m \u001b[38;5;28;01mNone\u001b[39;00m:\n\u001b[32m     73\u001b[39m     csvpath = os.path.join(dataset_root, \u001b[33m\"\u001b[39m\u001b[33mEnhancedDataEntry.csv\u001b[39m\u001b[33m\"\u001b[39m)\n\u001b[32m---> \u001b[39m\u001b[32m75\u001b[39m \u001b[38;5;28mself\u001b[39m.csv = \u001b[43mpd\u001b[49m\u001b[43m.\u001b[49m\u001b[43mread_csv\u001b[49m\u001b[43m(\u001b[49m\u001b[43mcsvpath\u001b[49m\u001b[43m)\u001b[49m\n\u001b[32m     77\u001b[39m \u001b[38;5;66;03m# Standardize columns\u001b[39;00m\n\u001b[32m     78\u001b[39m \u001b[38;5;28mself\u001b[39m.csv[\u001b[33m\"\u001b[39m\u001b[33mview\u001b[39m\u001b[33m\"\u001b[39m] = \u001b[38;5;28mself\u001b[39m.csv[\u001b[33m\"\u001b[39m\u001b[33mView Position\u001b[39m\u001b[33m\"\u001b[39m].fillna(\u001b[33m\"\u001b[39m\u001b[33mUNKNOWN\u001b[39m\u001b[33m\"\u001b[39m)\n",
      "\u001b[36mFile \u001b[39m\u001b[32m~/Workspace/cxr-denoise/.venv/lib/python3.13/site-packages/pandas/io/parsers/readers.py:1026\u001b[39m, in \u001b[36mread_csv\u001b[39m\u001b[34m(filepath_or_buffer, sep, delimiter, header, names, index_col, usecols, dtype, engine, converters, true_values, false_values, skipinitialspace, skiprows, skipfooter, nrows, na_values, keep_default_na, na_filter, verbose, skip_blank_lines, parse_dates, infer_datetime_format, keep_date_col, date_parser, date_format, dayfirst, cache_dates, iterator, chunksize, compression, thousands, decimal, lineterminator, quotechar, quoting, doublequote, escapechar, comment, encoding, encoding_errors, dialect, on_bad_lines, delim_whitespace, low_memory, memory_map, float_precision, storage_options, dtype_backend)\u001b[39m\n\u001b[32m   1013\u001b[39m kwds_defaults = _refine_defaults_read(\n\u001b[32m   1014\u001b[39m     dialect,\n\u001b[32m   1015\u001b[39m     delimiter,\n\u001b[32m   (...)\u001b[39m\u001b[32m   1022\u001b[39m     dtype_backend=dtype_backend,\n\u001b[32m   1023\u001b[39m )\n\u001b[32m   1024\u001b[39m kwds.update(kwds_defaults)\n\u001b[32m-> \u001b[39m\u001b[32m1026\u001b[39m \u001b[38;5;28;01mreturn\u001b[39;00m \u001b[43m_read\u001b[49m\u001b[43m(\u001b[49m\u001b[43mfilepath_or_buffer\u001b[49m\u001b[43m,\u001b[49m\u001b[43m \u001b[49m\u001b[43mkwds\u001b[49m\u001b[43m)\u001b[49m\n",
      "\u001b[36mFile \u001b[39m\u001b[32m~/Workspace/cxr-denoise/.venv/lib/python3.13/site-packages/pandas/io/parsers/readers.py:626\u001b[39m, in \u001b[36m_read\u001b[39m\u001b[34m(filepath_or_buffer, kwds)\u001b[39m\n\u001b[32m    623\u001b[39m     \u001b[38;5;28;01mreturn\u001b[39;00m parser\n\u001b[32m    625\u001b[39m \u001b[38;5;28;01mwith\u001b[39;00m parser:\n\u001b[32m--> \u001b[39m\u001b[32m626\u001b[39m     \u001b[38;5;28;01mreturn\u001b[39;00m \u001b[43mparser\u001b[49m\u001b[43m.\u001b[49m\u001b[43mread\u001b[49m\u001b[43m(\u001b[49m\u001b[43mnrows\u001b[49m\u001b[43m)\u001b[49m\n",
      "\u001b[36mFile \u001b[39m\u001b[32m~/Workspace/cxr-denoise/.venv/lib/python3.13/site-packages/pandas/io/parsers/readers.py:1923\u001b[39m, in \u001b[36mTextFileReader.read\u001b[39m\u001b[34m(self, nrows)\u001b[39m\n\u001b[32m   1916\u001b[39m nrows = validate_integer(\u001b[33m\"\u001b[39m\u001b[33mnrows\u001b[39m\u001b[33m\"\u001b[39m, nrows)\n\u001b[32m   1917\u001b[39m \u001b[38;5;28;01mtry\u001b[39;00m:\n\u001b[32m   1918\u001b[39m     \u001b[38;5;66;03m# error: \"ParserBase\" has no attribute \"read\"\u001b[39;00m\n\u001b[32m   1919\u001b[39m     (\n\u001b[32m   1920\u001b[39m         index,\n\u001b[32m   1921\u001b[39m         columns,\n\u001b[32m   1922\u001b[39m         col_dict,\n\u001b[32m-> \u001b[39m\u001b[32m1923\u001b[39m     ) = \u001b[38;5;28;43mself\u001b[39;49m\u001b[43m.\u001b[49m\u001b[43m_engine\u001b[49m\u001b[43m.\u001b[49m\u001b[43mread\u001b[49m\u001b[43m(\u001b[49m\u001b[43m  \u001b[49m\u001b[38;5;66;43;03m# type: ignore[attr-defined]\u001b[39;49;00m\n\u001b[32m   1924\u001b[39m \u001b[43m        \u001b[49m\u001b[43mnrows\u001b[49m\n\u001b[32m   1925\u001b[39m \u001b[43m    \u001b[49m\u001b[43m)\u001b[49m\n\u001b[32m   1926\u001b[39m \u001b[38;5;28;01mexcept\u001b[39;00m \u001b[38;5;167;01mException\u001b[39;00m:\n\u001b[32m   1927\u001b[39m     \u001b[38;5;28mself\u001b[39m.close()\n",
      "\u001b[36mFile \u001b[39m\u001b[32m~/Workspace/cxr-denoise/.venv/lib/python3.13/site-packages/pandas/io/parsers/c_parser_wrapper.py:234\u001b[39m, in \u001b[36mCParserWrapper.read\u001b[39m\u001b[34m(self, nrows)\u001b[39m\n\u001b[32m    232\u001b[39m \u001b[38;5;28;01mtry\u001b[39;00m:\n\u001b[32m    233\u001b[39m     \u001b[38;5;28;01mif\u001b[39;00m \u001b[38;5;28mself\u001b[39m.low_memory:\n\u001b[32m--> \u001b[39m\u001b[32m234\u001b[39m         chunks = \u001b[38;5;28;43mself\u001b[39;49m\u001b[43m.\u001b[49m\u001b[43m_reader\u001b[49m\u001b[43m.\u001b[49m\u001b[43mread_low_memory\u001b[49m\u001b[43m(\u001b[49m\u001b[43mnrows\u001b[49m\u001b[43m)\u001b[49m\n\u001b[32m    235\u001b[39m         \u001b[38;5;66;03m# destructive to chunks\u001b[39;00m\n\u001b[32m    236\u001b[39m         data = _concatenate_chunks(chunks)\n",
      "\u001b[31mKeyboardInterrupt\u001b[39m: "
     ]
    }
   ],
   "source": [
    "from nih_dataset import NIH_Dataset, RandomPatchDataset\n",
    "from torch.utils.data import DataLoader\n",
    "from noise import PreprocessClean, ApplyNoise\n",
    "import torch\n",
    "from PIL import Image\n",
    "from torchvision import transforms\n",
    "\n",
    "PRELOAD_TO_RAM = IN_COLAB\n",
    "\n",
    "nih_train = NIH_Dataset(DATA_PATH, split=\"train\", preload_to_ram=PRELOAD_TO_RAM)\n",
    "nih_val = NIH_Dataset(DATA_PATH, split=\"val\", preload_to_ram=PRELOAD_TO_RAM)\n",
    "nih_test = NIH_Dataset(DATA_PATH, split=\"test\", preload_to_ram=PRELOAD_TO_RAM)\n",
    "\n",
    "LIMIT_DATA = None # For Using Full Dataset\n",
    "#LIMIT_DATA = [320, 100, 100] # For Testing\n",
    "\n",
    "if LIMIT_DATA:\n",
    "    nih_train = torch.utils.data.Subset(nih_train, range(LIMIT_DATA[0])) if LIMIT_DATA[0] else nih_train\n",
    "    nih_val = torch.utils.data.Subset(nih_val, range(LIMIT_DATA[1])) if LIMIT_DATA[1] else nih_val\n",
    "    nih_test = torch.utils.data.Subset(nih_test, range(LIMIT_DATA[2])) if LIMIT_DATA[2] else nih_test\n",
    "\n",
    "BATCH_SIZE = 4\n",
    "\n",
    "train_dl = DataLoader(nih_train, batch_size=BATCH_SIZE, pin_memory=True, num_workers=4)\n",
    "val_dl = DataLoader(nih_val, batch_size=BATCH_SIZE)\n",
    "test_dl = DataLoader(nih_test, batch_size=BATCH_SIZE)\n",
    "\n",
    "PATCH_BATCH_SIZE = 64\n",
    "PATCH_SIZE = 64\n",
    "\n",
    "patch_train_dl = DataLoader(RandomPatchDataset(nih_train, PATCH_SIZE), batch_size=PATCH_BATCH_SIZE, pin_memory=True, num_workers=4)\n",
    "\n",
    "print(f\"train/val/test: {len(nih_train)}/{len(nih_val)}/{len(nih_test)}\")\n"
   ]
  },
  {
   "cell_type": "code",
   "execution_count": null,
   "id": "3359e513",
   "metadata": {},
   "outputs": [],
   "source": [
    "# Noise model\n",
    "preproc: PreprocessClean = PreprocessClean() # apply to clean images for ground truth\n",
    "noiser: ApplyNoise = ApplyNoise(blur_sigma=1.0) # apply to preproc to get noisy features\n",
    "\n",
    "sample = next(iter(train_dl))\n",
    "print(\"Sample batch shape:\", sample[0].shape)\n",
    "\n",
    "# Load and transform images named example_01.png to example_06.png\n",
    "example_transf = transforms.ToTensor()\n",
    "example_patches = [\n",
    "    example_transf(Image.open(f\"examples/patch_{i:02d}.png\").convert(\"L\")) for i in range(1, 7)\n",
    "]\n",
    "\n",
    "# Example Patches\n",
    "example_patch_batch = torch.stack(example_patches).to(device)  # shape: (6, 1, H, W)\n",
    "import cxr_plt\n",
    "\n",
    "example_clean = preproc(example_patch_batch)\n",
    "example_noisy = noiser(example_clean)\n",
    "\n",
    "cxr_plt.plot_cxr_images(\n",
    "    [example_clean[0], example_noisy[0], example_clean[1], example_noisy[1]], \n",
    "    [\"Clean 1\", \"Noisy 1\", \"Clean 2\", \"Noisy 2\"], figsize=(4*4, 4))\n"
   ]
  },
  {
   "cell_type": "markdown",
   "id": "2b2a7b5b",
   "metadata": {},
   "source": [
    "## Model and training"
   ]
  },
  {
   "cell_type": "code",
   "execution_count": null,
   "id": "dfdc833a",
   "metadata": {},
   "outputs": [
    {
     "name": "stderr",
     "output_type": "stream",
     "text": [
      "/home/morris/Workspace/cxr-denoise/.venv/lib/python3.13/site-packages/tqdm/auto.py:21: TqdmWarning: IProgress not found. Please update jupyter and ipywidgets. See https://ipywidgets.readthedocs.io/en/stable/user_install.html\n",
      "  from .autonotebook import tqdm as notebook_tqdm\n"
     ]
    },
    {
     "name": "stdout",
     "output_type": "stream",
     "text": [
      "model output shape: torch.Size([1, 1, 512, 512])\n",
      "Trainable parameters: 8,169,711\n"
     ]
    }
   ],
   "source": [
    "# Model\n",
    "from unet_model import ResUNetSE\n",
    "import torchsummary\n",
    "import torchinfo\n",
    "import torch\n",
    "\n",
    "model = ResUNetSE(features=32, se_reduction=16).to(device=device)\n",
    "\n",
    "with torch.no_grad():\n",
    "    out = model(torch.zeros((1, 1, 512, 512)).to(device))\n",
    "    print(\"model output shape:\", out.shape)\n",
    "\n",
    "print(f\"Trainable parameters: {sum(p.numel() for p in model.parameters() if p.requires_grad):,}\")"
   ]
  },
  {
   "cell_type": "code",
   "execution_count": null,
   "id": "3349c5a1",
   "metadata": {},
   "outputs": [
    {
     "name": "stderr",
     "output_type": "stream",
     "text": [
      "Epoch 1/10:   3%|▎         | 31/1091 [01:39<56:41,  3.21s/it, loss=0.1203]  \n"
     ]
    },
    {
     "ename": "KeyboardInterrupt",
     "evalue": "",
     "output_type": "error",
     "traceback": [
      "\u001b[31m---------------------------------------------------------------------------\u001b[39m",
      "\u001b[31mKeyboardInterrupt\u001b[39m                         Traceback (most recent call last)",
      "\u001b[36mCell\u001b[39m\u001b[36m \u001b[39m\u001b[32mIn[11]\u001b[39m\u001b[32m, line 51\u001b[39m\n\u001b[32m     48\u001b[39m noisy = noiser(clean)\n\u001b[32m     50\u001b[39m \u001b[38;5;66;03m# Forward pass\u001b[39;00m\n\u001b[32m---> \u001b[39m\u001b[32m51\u001b[39m output = \u001b[43mmodel\u001b[49m\u001b[43m(\u001b[49m\u001b[43mnoisy\u001b[49m\u001b[43m)\u001b[49m\n\u001b[32m     52\u001b[39m loss = criterion(output, clean)\n\u001b[32m     54\u001b[39m \u001b[38;5;66;03m# Backprop\u001b[39;00m\n",
      "\u001b[36mFile \u001b[39m\u001b[32m~/Workspace/cxr-denoise/.venv/lib/python3.13/site-packages/torch/nn/modules/module.py:1739\u001b[39m, in \u001b[36mModule._wrapped_call_impl\u001b[39m\u001b[34m(self, *args, **kwargs)\u001b[39m\n\u001b[32m   1737\u001b[39m     \u001b[38;5;28;01mreturn\u001b[39;00m \u001b[38;5;28mself\u001b[39m._compiled_call_impl(*args, **kwargs)  \u001b[38;5;66;03m# type: ignore[misc]\u001b[39;00m\n\u001b[32m   1738\u001b[39m \u001b[38;5;28;01melse\u001b[39;00m:\n\u001b[32m-> \u001b[39m\u001b[32m1739\u001b[39m     \u001b[38;5;28;01mreturn\u001b[39;00m \u001b[38;5;28;43mself\u001b[39;49m\u001b[43m.\u001b[49m\u001b[43m_call_impl\u001b[49m\u001b[43m(\u001b[49m\u001b[43m*\u001b[49m\u001b[43margs\u001b[49m\u001b[43m,\u001b[49m\u001b[43m \u001b[49m\u001b[43m*\u001b[49m\u001b[43m*\u001b[49m\u001b[43mkwargs\u001b[49m\u001b[43m)\u001b[49m\n",
      "\u001b[36mFile \u001b[39m\u001b[32m~/Workspace/cxr-denoise/.venv/lib/python3.13/site-packages/torch/nn/modules/module.py:1750\u001b[39m, in \u001b[36mModule._call_impl\u001b[39m\u001b[34m(self, *args, **kwargs)\u001b[39m\n\u001b[32m   1745\u001b[39m \u001b[38;5;66;03m# If we don't have any hooks, we want to skip the rest of the logic in\u001b[39;00m\n\u001b[32m   1746\u001b[39m \u001b[38;5;66;03m# this function, and just call forward.\u001b[39;00m\n\u001b[32m   1747\u001b[39m \u001b[38;5;28;01mif\u001b[39;00m \u001b[38;5;129;01mnot\u001b[39;00m (\u001b[38;5;28mself\u001b[39m._backward_hooks \u001b[38;5;129;01mor\u001b[39;00m \u001b[38;5;28mself\u001b[39m._backward_pre_hooks \u001b[38;5;129;01mor\u001b[39;00m \u001b[38;5;28mself\u001b[39m._forward_hooks \u001b[38;5;129;01mor\u001b[39;00m \u001b[38;5;28mself\u001b[39m._forward_pre_hooks\n\u001b[32m   1748\u001b[39m         \u001b[38;5;129;01mor\u001b[39;00m _global_backward_pre_hooks \u001b[38;5;129;01mor\u001b[39;00m _global_backward_hooks\n\u001b[32m   1749\u001b[39m         \u001b[38;5;129;01mor\u001b[39;00m _global_forward_hooks \u001b[38;5;129;01mor\u001b[39;00m _global_forward_pre_hooks):\n\u001b[32m-> \u001b[39m\u001b[32m1750\u001b[39m     \u001b[38;5;28;01mreturn\u001b[39;00m \u001b[43mforward_call\u001b[49m\u001b[43m(\u001b[49m\u001b[43m*\u001b[49m\u001b[43margs\u001b[49m\u001b[43m,\u001b[49m\u001b[43m \u001b[49m\u001b[43m*\u001b[49m\u001b[43m*\u001b[49m\u001b[43mkwargs\u001b[49m\u001b[43m)\u001b[49m\n\u001b[32m   1752\u001b[39m result = \u001b[38;5;28;01mNone\u001b[39;00m\n\u001b[32m   1753\u001b[39m called_always_called_hooks = \u001b[38;5;28mset\u001b[39m()\n",
      "\u001b[36mFile \u001b[39m\u001b[32m~/Workspace/cxr-denoise/training/unet_model.py:125\u001b[39m, in \u001b[36mResUNetSE.forward\u001b[39m\u001b[34m(self, x)\u001b[39m\n\u001b[32m    123\u001b[39m         x = nn.functional.interpolate(x, size=skip.shape[\u001b[32m2\u001b[39m:], mode=\u001b[33m\"\u001b[39m\u001b[33mbilinear\u001b[39m\u001b[33m\"\u001b[39m, align_corners=\u001b[38;5;28;01mTrue\u001b[39;00m)\n\u001b[32m    124\u001b[39m     x = torch.cat((skip, x), dim=\u001b[32m1\u001b[39m)\n\u001b[32m--> \u001b[39m\u001b[32m125\u001b[39m     x = \u001b[38;5;28;43mself\u001b[39;49m\u001b[43m.\u001b[49m\u001b[43mup_convs\u001b[49m\u001b[43m[\u001b[49m\u001b[43midx\u001b[49m\u001b[43m]\u001b[49m\u001b[43m(\u001b[49m\u001b[43mx\u001b[49m\u001b[43m)\u001b[49m\n\u001b[32m    127\u001b[39m \u001b[38;5;28;01mreturn\u001b[39;00m identity + \u001b[38;5;28mself\u001b[39m.final_conv(x)\n",
      "\u001b[36mFile \u001b[39m\u001b[32m~/Workspace/cxr-denoise/.venv/lib/python3.13/site-packages/torch/nn/modules/module.py:1739\u001b[39m, in \u001b[36mModule._wrapped_call_impl\u001b[39m\u001b[34m(self, *args, **kwargs)\u001b[39m\n\u001b[32m   1737\u001b[39m     \u001b[38;5;28;01mreturn\u001b[39;00m \u001b[38;5;28mself\u001b[39m._compiled_call_impl(*args, **kwargs)  \u001b[38;5;66;03m# type: ignore[misc]\u001b[39;00m\n\u001b[32m   1738\u001b[39m \u001b[38;5;28;01melse\u001b[39;00m:\n\u001b[32m-> \u001b[39m\u001b[32m1739\u001b[39m     \u001b[38;5;28;01mreturn\u001b[39;00m \u001b[38;5;28;43mself\u001b[39;49m\u001b[43m.\u001b[49m\u001b[43m_call_impl\u001b[49m\u001b[43m(\u001b[49m\u001b[43m*\u001b[49m\u001b[43margs\u001b[49m\u001b[43m,\u001b[49m\u001b[43m \u001b[49m\u001b[43m*\u001b[49m\u001b[43m*\u001b[49m\u001b[43mkwargs\u001b[49m\u001b[43m)\u001b[49m\n",
      "\u001b[36mFile \u001b[39m\u001b[32m~/Workspace/cxr-denoise/.venv/lib/python3.13/site-packages/torch/nn/modules/module.py:1750\u001b[39m, in \u001b[36mModule._call_impl\u001b[39m\u001b[34m(self, *args, **kwargs)\u001b[39m\n\u001b[32m   1745\u001b[39m \u001b[38;5;66;03m# If we don't have any hooks, we want to skip the rest of the logic in\u001b[39;00m\n\u001b[32m   1746\u001b[39m \u001b[38;5;66;03m# this function, and just call forward.\u001b[39;00m\n\u001b[32m   1747\u001b[39m \u001b[38;5;28;01mif\u001b[39;00m \u001b[38;5;129;01mnot\u001b[39;00m (\u001b[38;5;28mself\u001b[39m._backward_hooks \u001b[38;5;129;01mor\u001b[39;00m \u001b[38;5;28mself\u001b[39m._backward_pre_hooks \u001b[38;5;129;01mor\u001b[39;00m \u001b[38;5;28mself\u001b[39m._forward_hooks \u001b[38;5;129;01mor\u001b[39;00m \u001b[38;5;28mself\u001b[39m._forward_pre_hooks\n\u001b[32m   1748\u001b[39m         \u001b[38;5;129;01mor\u001b[39;00m _global_backward_pre_hooks \u001b[38;5;129;01mor\u001b[39;00m _global_backward_hooks\n\u001b[32m   1749\u001b[39m         \u001b[38;5;129;01mor\u001b[39;00m _global_forward_hooks \u001b[38;5;129;01mor\u001b[39;00m _global_forward_pre_hooks):\n\u001b[32m-> \u001b[39m\u001b[32m1750\u001b[39m     \u001b[38;5;28;01mreturn\u001b[39;00m \u001b[43mforward_call\u001b[49m\u001b[43m(\u001b[49m\u001b[43m*\u001b[49m\u001b[43margs\u001b[49m\u001b[43m,\u001b[49m\u001b[43m \u001b[49m\u001b[43m*\u001b[49m\u001b[43m*\u001b[49m\u001b[43mkwargs\u001b[49m\u001b[43m)\u001b[49m\n\u001b[32m   1752\u001b[39m result = \u001b[38;5;28;01mNone\u001b[39;00m\n\u001b[32m   1753\u001b[39m called_always_called_hooks = \u001b[38;5;28mset\u001b[39m()\n",
      "\u001b[31mKeyboardInterrupt\u001b[39m: "
     ]
    }
   ],
   "source": [
    "# Training loop - patch training\n",
    "\n",
    "import torch\n",
    "from cxr_plt import *\n",
    "from tqdm import tqdm\n",
    "from loss import CombinedLoss, SpatialLoss, FrequencyLoss\n",
    "import matplotlib.pyplot as plt\n",
    "import os\n",
    "from torchvision.transforms.functional import to_pil_image\n",
    "from torchvision.utils import make_grid\n",
    "\n",
    "from torchmetrics.functional import structural_similarity_index_measure as ssim\n",
    "import torch.nn.functional as F\n",
    "from train_util import *\n",
    "import csv\n",
    "\n",
    "criterion = CombinedLoss(1.0, 0.3)\n",
    "optimizer = torch.optim.Adam(model.parameters(),lr=1e-3)\n",
    "model.train()\n",
    "\n",
    "num_epochs = 10\n",
    "patch_size = 64\n",
    "\n",
    "\n",
    "metrics_log_path = \"checkpoints/training_metrics.csv\"\n",
    "os.makedirs(\"checkpoints\", exist_ok=True)\n",
    "\n",
    "# Create CSV file with header if not exists\n",
    "if not os.path.exists(metrics_log_path):\n",
    "    with open(metrics_log_path, mode='w', newline='') as f:\n",
    "        writer = csv.writer(f)\n",
    "        writer.writerow([\"epoch\", \"val_psnr\", \"val_ssim\", \"val_l1\", \"train_psnr\", \"train_ssim\", \"train_l1\"])\n",
    "\n",
    "\n",
    "total_batches = 0\n",
    "for epoch in range(num_epochs):\n",
    "    total_loss = 0\n",
    "    pbar = tqdm(patch_train_dl, desc=f\"Epoch {epoch+1}/{num_epochs}\")\n",
    "\n",
    "    for batch in pbar:\n",
    "        batch = batch[0] if isinstance(batch, (tuple, list)) else batch\n",
    "        clean = batch.to(device)  # (B, 1, H, W)\n",
    "\n",
    "        # Preprocess and noise\n",
    "        clean = preproc(clean)\n",
    "\n",
    "        # Apply noise\n",
    "        noisy = noiser(clean)\n",
    "\n",
    "        # Forward pass\n",
    "        output = model(noisy)\n",
    "        loss = criterion(output, clean)\n",
    "\n",
    "        # Backprop\n",
    "        optimizer.zero_grad()\n",
    "        loss.backward()\n",
    "        optimizer.step()\n",
    "        total_batches += 1\n",
    "\n",
    "        total_loss += loss.item()\n",
    "        pbar.set_postfix(loss=f\"{loss.item():.4f}\")\n",
    "\n",
    "        #if total_batches % 100 == 0:\n",
    "        #    print(\"checkup!\")\n",
    "        #    plot_cxr_images([clean[0], noisy[0], output[0]], [\"Clean\", \"Noisy\", \"Out\"])\n",
    "\n",
    "    # Log visuals and metrics after each epoch\n",
    "    with torch.no_grad():\n",
    "        model.eval()\n",
    "\n",
    "        clean = preproc(example_patch_batch.to(device))\n",
    "        noisy = noiser(clean)\n",
    "        output = model(noisy)\n",
    "\n",
    "        save_cxr_triplet(clean, noisy, output, f\"example_patches_epoch_{epoch}.png\")\n",
    "\n",
    "        val_metrics = evaluate_metrics_on_dataloader(model, val_dl, preproc, noiser, device, max_batches=500)\n",
    "        train_metrics = evaluate_metrics_on_dataloader(model, train_dl, preproc, noiser, device, max_batches=500)\n",
    "\n",
    "        # Save model checkpoint\n",
    "        torch.save(model.state_dict(), f\"checkpoints/model_epoch_{epoch+1}.pt\")\n",
    "\n",
    "        # Write metrics to CSV\n",
    "        with open(metrics_log_path, mode='a', newline='') as f:\n",
    "            writer = csv.writer(f)\n",
    "            writer.writerow([\n",
    "                epoch + 1,\n",
    "                val_metrics[\"psnr\"],\n",
    "                val_metrics[\"ssim\"],\n",
    "                val_metrics[\"l1\"],\n",
    "                train_metrics[\"psnr\"],\n",
    "                train_metrics[\"ssim\"],\n",
    "                train_metrics[\"l1\"]\n",
    "            ])\n",
    "\n",
    "\n",
    "        model.train()\n",
    "\n",
    "    avg_loss = total_loss / len(patch_train_dl)\n",
    "    print(f\"Epoch {epoch+1} Average Loss: {avg_loss:.4f}\")"
   ]
  },
  {
   "cell_type": "markdown",
   "id": "0a1fce5a",
   "metadata": {},
   "source": [
    "## Save and Eval"
   ]
  },
  {
   "cell_type": "code",
   "execution_count": null,
   "id": "b9d14255",
   "metadata": {},
   "outputs": [],
   "source": [
    "import time\n",
    "import torch\n",
    "\n",
    "model.train()\n",
    "num_batches = 400\n",
    "dataloader = patch_train_dl \n",
    "\n",
    "times = {\n",
    "    \"load\": 0.0,\n",
    "    \"preprocess\": 0.0,\n",
    "    \"forward\": 0.0,\n",
    "    \"backward\": 0.0,\n",
    "    \"optimizer\": 0.0\n",
    "}\n",
    "\n",
    "data_iter = iter(dataloader)\n",
    "\n",
    "for _ in range(num_batches):\n",
    "    # --- Load from dataloader ---\n",
    "    t0 = time.time()\n",
    "    batch = next(data_iter)\n",
    "    batch = batch[0] if isinstance(batch, (tuple, list)) else batch\n",
    "    clean = batch.to(device)\n",
    "    t1 = time.time()\n",
    "\n",
    "    # --- Preprocess & Noise ---\n",
    "    clean_pre = preproc(clean)\n",
    "    noisy = noiser(clean_pre)\n",
    "    t2 = time.time()\n",
    "\n",
    "    # --- Forward ---\n",
    "    output = model(noisy)\n",
    "    loss = criterion(output, clean_pre)\n",
    "    t3 = time.time()\n",
    "\n",
    "    # --- Backward ---\n",
    "    optimizer.zero_grad()\n",
    "    loss.backward()\n",
    "    t4 = time.time()\n",
    "\n",
    "    # --- Optimizer Step ---\n",
    "    optimizer.step()\n",
    "    t5 = time.time()\n",
    "\n",
    "    # Accumulate times\n",
    "    times[\"load\"] += t1 - t0\n",
    "    times[\"preprocess\"] += t2 - t1\n",
    "    times[\"forward\"] += t3 - t2\n",
    "    times[\"backward\"] += t4 - t3\n",
    "    times[\"optimizer\"] += t5 - t4\n",
    "\n",
    "# Average\n",
    "for key in times:\n",
    "    times[key] /= num_batches\n",
    "\n",
    "print(\"Profiling results (avg per batch):\")\n",
    "print(f\" Load from dataloader: {times['load']:.4f} s\")\n",
    "print(f\" Preprocess + noise:   {times['preprocess']:.4f} s\")\n",
    "print(f\" Forward pass:         {times['forward']:.4f} s\")\n",
    "print(f\" Backward pass:        {times['backward']:.4f} s\")\n",
    "print(f\" Optimizer step:       {times['optimizer']:.4f} s\")\n",
    "print(f\"-Total per step:       {sum(times.values()):.4f} s\")"
   ]
  },
  {
   "cell_type": "code",
   "execution_count": null,
   "id": "81ee5ec1",
   "metadata": {},
   "outputs": [],
   "source": [
    "# Save the model weights\n",
    "MODEL_SAVE_PATH = \"checkpoints/denoise_model_epoch_last.pth\"\n",
    "os.makedirs(os.path.dirname(MODEL_SAVE_PATH), exist_ok=True)\n",
    "\n",
    "\n",
    "\n",
    "torch.save({\n",
    "    'model_state_dict': model.state_dict(),\n",
    "    'optimizer_state_dict': optimizer.state_dict(),\n",
    "    'epoch': epoch + 1,  # last completed epoch\n",
    "    'patch_size': patch_size,\n",
    "    'parameters': sum(p.numel() for p in model.parameters() if p.requires_grad),\n",
    "}, MODEL_SAVE_PATH)\n",
    "\n",
    "print(f\"Model saved to {MODEL_SAVE_PATH}\")"
   ]
  },
  {
   "cell_type": "code",
   "execution_count": null,
   "id": "4fbc6d99",
   "metadata": {},
   "outputs": [],
   "source": [
    "# Test model"
   ]
  }
 ],
 "metadata": {
  "kernelspec": {
   "display_name": ".venv",
   "language": "python",
   "name": "python3"
  },
  "language_info": {
   "codemirror_mode": {
    "name": "ipython",
    "version": 3
   },
   "file_extension": ".py",
   "mimetype": "text/x-python",
   "name": "python",
   "nbconvert_exporter": "python",
   "pygments_lexer": "ipython3",
   "version": "3.13.5"
  }
 },
 "nbformat": 4,
 "nbformat_minor": 5
}
